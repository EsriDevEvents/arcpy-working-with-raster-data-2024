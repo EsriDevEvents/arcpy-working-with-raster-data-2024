{
 "cells": [
  {
   "cell_type": "markdown",
   "metadata": {},
   "source": [
    "## <span style=\"color:#0070C0; font-weight: 600; font-size:1.2em;\"> Demo 3: Creating custom models and analysis"
   ]
  },
  {
   "cell_type": "markdown",
   "metadata": {},
   "source": [
    "### <span style=\"color:#0070C0; font-weight: 600; font-size:1.2em;\"> Learning objectives\n",
    "\n",
    "- <span style=\"font-size:1.3em\"> Raster Cell Iterator basics </span>\n",
    "- <span style=\"font-size:1.3em\"> Customize analysis using RCI and NumPy </span>\n",
    "- <span style=\"font-size:1.3em\"> Share custom analysis </span>\n",
    " "
   ]
  },
  {
   "cell_type": "markdown",
   "metadata": {},
   "source": [
    "<span style=\"font-size:1.3em\"> **Index notation to access specific cell values in a raster** </span>"
   ]
  },
  {
   "cell_type": "code",
   "execution_count": 34,
   "metadata": {},
   "outputs": [],
   "source": [
    "import numpy as np\n",
    "import arcpy\n",
    "from arcpy.sa import Raster, RasterCellIterator"
   ]
  },
  {
   "cell_type": "code",
   "execution_count": 35,
   "metadata": {},
   "outputs": [],
   "source": [
    "dem = Raster(r'C:\\arcpy-working-with-raster-data-2024\\DevSummit\\PythonRaster\\Data\\Demo3\\Input\\dem')\n",
    "value_r1c2 = dem[1,2]"
   ]
  },
  {
   "cell_type": "markdown",
   "metadata": {
    "variables": {
     "value_r1c2": "183"
    }
   },
   "source": [
    "<span style=\"font-size:1.2em\"> Value in row 1, column 2: {{value_r1c2}}"
   ]
  },
  {
   "cell_type": "markdown",
   "metadata": {},
   "source": [
    "### Raster Cell Iterator syntax"
   ]
  },
  {
   "cell_type": "code",
   "execution_count": 37,
   "metadata": {},
   "outputs": [
    {
     "ename": "NameError",
     "evalue": "name 'myraster' is not defined",
     "output_type": "error",
     "traceback": [
      "\u001b[0;31m---------------------------------------------------------------------------\u001b[0m\n\u001b[0;31mNameError\u001b[0m                                 Traceback (most recent call last)",
      "In  \u001b[0;34m[37]\u001b[0m:\nLine \u001b[0;34m3\u001b[0m:     \u001b[34mwith\u001b[39;49;00m RasterCellIterator({\u001b[33m'\u001b[39;49;00m\u001b[33mrasters\u001b[39;49;00m\u001b[33m'\u001b[39;49;00m:[myraster, mynewraster]}) \u001b[34mas\u001b[39;49;00m rci:\u001b[37m\u001b[39;49;00m\n",
      "\u001b[0;31mNameError\u001b[0m: name 'myraster' is not defined\n\u001b[0;31m---------------------------------------------------------------------------\u001b[0m"
     ]
    }
   ],
   "source": [
    "\"\"\"EXAMPLE DO NOT RUN -- EXPECTED TO FAIL SINCE myraster and mynewraster do not exist\"\"\"\n",
    "\n",
    "with RasterCellIterator({'rasters':[myraster, mynewraster]}) as rci:\n",
    "    # Accessing the cell with indices r,c\n",
    "    for r,c in rci:\n",
    "        \"\"\"Algorithm that applies to cell with indeces r,c\"\"\"\n",
    "        mynewraster[r,c] = myraster[r,c] + 10"
   ]
  },
  {
   "cell_type": "markdown",
   "metadata": {},
   "source": [
    "### Example problem: Calculating the steepest downhill neighbor slope"
   ]
  },
  {
   "cell_type": "markdown",
   "metadata": {},
   "source": [
    " \n",
    "<span style=\"font-size:1.3em\"> **Usage:**  A variant of this algorithm is used in watershed delineation and stream extraction. To define these, it is required to know towards which neighbor water will flow. </span>\n",
    "    \n",
    "<span style=\"font-size:1.3em\"> **Algorithm:** It picks the steepest of the eight adjacent points slope value,  with the constrains that the point must be lower in elevation than the central point.  The slope value is assigned to the central point. </span>\n",
    "\n",
    "<img src=data:image/png;base64,iVBORw0KGgoAAAANSUhEUgAABPAAAAGjCAMAAACVPxvPAAAAAXNSR0IArs4c6QAAAARnQU1BAACxjwv8YQUAAAL6UExURQAAAAAAAAAAAAAAAAAAAAAAAAAAAAAAAAAAAAAAAAAAAAAAAAAAAAAAAAAAAAAAAAAAAAAAAAAAAAAAAAAAAAAAAAAAAAAAAAAAAAAAAAAAAAAAAAAAAAAAAAAAAAAAAAAAAAAAAAAAAAAAAAAAAAAAAAAAAAAAAAAAAAAAAAAAAAAAAAAAAAAAAAAAAAAAAAAAAAAAAAAAAAAAAAAAAAAAAAAAAAAAAAAAAAAAAAAAAAAAAAAAAAAAAAAAAAAAAAAAAAAAAAAAAAAAAAAAAAAAAAAAAAAAAAAAAAAAAAAAAAAAAAAAAAAAAAAAAAAAAAAAAAAAAAAAAAAAAAAAAAAAAAAAAAAAAAAAAAAAAAAAAAAAAAAAAD8/PwAAADo6Ojk5OQAAAAAAAAAAAAAAAAAAAAgOCRAQEBEQDhEeExksHCEhISMgHSM8JipJLzExMTNZODQwKzc3Nzk5OTo6Ojs7OztnQjw8PD09PT4+Pj8/P0BAQENDQ0N0SkdBO0qAUlGNWlNTU1dQSFiZYV+kaWRkZGWvcGlhV2q3dWq4dWq5dmu6d22+eW/AenDCfHDDfHHEfXPHf3PIf3R0dHTJgHTKgHXLgXbNg3fPhHjPhHjQhXnRhXnShnpwZXrThnrUh3vUh3vViHzWiHzXiYKCgoh+cpCQkJeMfp6enqaai6ysrLSnlrm5ucK0osXFxcjIyMnJycvLy8zMzM7Ozs/Arc/Pz9DQ0NHR0dLCrtLS0tXFstXV1dbGstbW1tfX19jItNjY2NnJtdrKttra2tvb29zLudzMuNzc3N3d3d7e3uDPu+DPvODg4OHh4eLRveLi4uPSvuPj4+XUv+Xl5ebVwObm5ufn5+jXwunXw+np6erq6uvZxOvr6+zaxezbxezs7O3bxu3t7e7cx+7u7u/v7/DeyPDw8PHfyfHfyvHx8fLgyvLy8vTizPXizfXjzPXjzfbjzfbjzvbkzffkzvflzvjlz/nm0Prn0Prn0fvo0fvo0vzp0v3q0/7r1K/gyuwAAABldFJOUwABAgMEBQYHCAkKCwwNDg8QERITFBUWFxgZGhscHR4fICEiIyQlJicoKSorLC0uLzAxMjM0NTY3ODk6Ozw9Pj9AQUJDREVGR0hJSktMTU5PUFFSU1RWV1hZZ3aFlqeotba4y9zuObDo1QAAAAlwSFlzAAAXEQAAFxEByibzPwAANw9JREFUeF7tnQ24HNd516Wr7w/bkq7sWNaHLTmyLH/k2o2JSXLtuKROUjV2U0qj6KOCK2l9HStBcYEU3VXdKokSigk0KCVtSaCxFUVWZUHbJOVSUgwJxoULrhuiItmgug4CR4VCaEo+7OfhvO9552P37t05c8475+7O/n/PY9/Z2d05O+c/72/mzMyu5ljmWoaqxzZSx7YI6c6KsW1FWCtuI05TtQ0LxRUO959mXvZjz4vFfPkbg2ht2WCkQyslcloRqWFYKC4NdPMygcybv2DBwoWLqmfxosWLlyxZbP7IjAqJ2daihQsXLJg/L0IVRUxrsQFhhYHiUkA3L4pkwU82IzFhkMnKidkW8ZMLqi+iqGkhrFBQXFro5TV3aP7CxbLUypmYOHRIJisnZluWxQvnD1UtvIhpIaxgUFxqaOVldkELlyxvNi9F4OWL37hw7mz92rI0m8uXLDS7IenYSoiYFsIKB8WlhV5eZh+0ePnKWP300vmzz9avLUuzuXL54oqPGiKmhbDCQXFpoZbX3LnzFi5dcVWUz/7yy2a/8NwztWtLaDavWrF04bwqTwxFTAthhYPiUkMtL7MPWrR8eG2cfrr40gtnp56qXVtCs7l2+LJF8ysVXry0EFY4KC411PKaO7Rg8eVXbYjUTy+e/9ozX65dW0Kzee1Vly9eUK3woqWFsMJBcamhlpfJZMmKqzfF6qdzz311snZtCc3mpqtXLFlQ5XmhiGkhrHBQXGqo5cWZrHltvH76ypdq15bQbL52zcoIwouTFsIKB8Wlhlpec4cWLl25dnOkfrpw7tmnvli7toRmc/M1K5csrFZ40dJCWOGguNRQy8tmckPEfvrN2rUlNJs3rF21NILwoqSFsMJBcamhlhdlsipiJv8hYiax2hIiCS9SWggrHBSXGhBeAfWsIQhPCwgvgH7OC5moAeH5Us+wUFyKQHgF1LOGIDwtILwA+jkvZKIGhOdLPcNCcSkC4RVQzxqC8LSA8ALo57yQiRoQni/1DAvFpQiEV0A9awjC0wLCC6Cf80ImakB4vtQzLBSXIhBeAfWsIQhPCwgvgH7OC5moAeH5Us+wUFyKQHgF1LOGIDwtILwA+jkvZKIGhOdLPcNCcSkC4RVQzxqC8LSA8ALo57yQiRoQni/1DAvFpQiEV0A9awjC0wLCC6Cf80ImakB4vtQzLBSXIhBeAfWsIQhPCwgvgH7OC5moAeH5Us+wUFyKQHgF1LOGIDwtILwA+jkvZKIGhOdLPcNCcSkC4RVQzxqC8LSA8ALo57yQiRoQni/1DAvFpQiEV0A9awjC0wLCC6Cf80ImakB4vtQzLBSXIhBeAfWsIQhPCwgvgH7OC5moAeH5Us+wUFyKQHgF1LOGIDwtILwA+jkvZKIGhOdLPcNCcSkC4RVQzxqC8LSA8ALo57yQiRoQni/1DAvFpQiEV0A9awjC0wLCC6Cf80ImakB4vtQzLBSXIj0gvMmjBxqNg8en5KED3v00deJgozF+9LQ8dMG7rcONhMMyx5VeE97UcdNrB45OysMUtzUs0YG0wGRRp2m5Mm0wm0ijUZhbubBOHxmn9eq01CnzzHGZ7g6EF0DMtoTZF94ps20RB87IjGJ8++kMl43hmMxwwDsTWS1DnwvvjNEdMX5SZiS4rWGJDmSDnrLTrcI7RY8aR+XRjJQJa+oIL9PQYWs4amZDeJUTsy1h1oU3mZbNAedjPM9+ypoqYTzfTKakJUOfC098Z2jdJTmuYYkOZOHJZtAqPCun8aItpExYqe86qO14x7kdgfACiNmWMOvCo32pcEJmFeLZT7mmikdHCb6ZcMFa+lt4J2UtDEdklsVxDUt0oB0jW9G0CC9xa/sxZjsl2sp9+kajVaRy7AfhVU7MtoRZFx5tWicuTdJhhLMY/PqJq+b41KVTNLAtHB0l+GZywjRS5lxhjt4SHlno6NQU7y1klsVxDUt0oBVeg08WtgiPmiILFW0hJdqi9Tl4+tIUH8zlRTp1XAYCEF7lxGxLmG3h0XZN8qG/FQuPmjhIE2fMxDjPcsA3k2OmEZksS28Jz6zHAfnbukKOa1iiA0V4vB20CI8uNdF1BOvCmSnRFu31WNfUaN5t/CGoLQivcmK2Jcy28M4cP3KATlPTWemKj7oyp9Im7XqJxDcTUzdsVw96SnhTx48epDOedHzM4ktxXMMSHSjC4+sWeeHRHuqYy4WEMm0dPmAXT4d47cI71j5zZiC8AGK2Jcy28AS6VDtesPvO8OsnKiEuWR7bysXAQnwzMSt08Oh4p7s5Cukp4Ql8qba1zxzXsIyETBvUDl23yAuPVHeG94mtyp2GT1i08PzI/HBj/NQ0C84MhBdAzLaEnhAe33RgNjNX/PqJPWeq095m4bY5e2eSnGY361V0pn0avSc8uzatXea6hiU6kITHdymZlvLCM7PIdPRM95OGHmHRSLnl/MYRuiMUwqtdW0JPCI9PHLsayODZT8mIialYeFyvQtlrF70nPF6bI63XMl3XsEQHUkCn+arwZF54NIfiopOG3U97eIRF10Km3x4A4dWuLaEnhEdbshnMON957NlPZ+gQIaFi4dF1xYSCcdg0ek949r7f1mNw1zUs0YEsPP7/4bzwaAYNm/liU9db8cqHRQPaDhfLILzatSX0hPCM6ah8nO889u0n+VLHOO3VKxYeOdwYfJIKquwhXu8Jb3Lq0mnqu/wuyXUNS3SgFR55rXEqE96kmbBXR+jKqtbwmeGbbQ522OwgvNq1JfSE8AiqH9c7j737ib62O350kgqrYuGdPHrQFmmZtoTeEx5BR3n5O49d17BEB1rh8aZwgA8qeS7Jx24ZNNX13qWSYU3R2dxOvoPw4kgoZltCzwiP9uitd/LPTGg/0XbuetQV2pZ76aT0pvDoZp6Ody8WrGGJDhTh8R13NG2Fl3wBWuh2TbhcWOy7ox2HFRBe7doSZlt4Jw8ftu4h4bneeRzYT3x90fVukdBM+l14p48cHrefn3qNJ9pQF56cMjTQTB7b5ujWmaXCYt/NMKiA8GrXljDbwqNtnL/JT2dTKj7CO3r4INcTny+0s4rxa2vSeNyeX6cVLHljSk8Jj0qfh650rTR3hOe8hiU6MBEeTxA0zecIcyhdILG+m+lzQ3i1a0uYbeHxtb4T8pXGis/h8RnqyUsnacTk/HMpnm1RG+kp/ZL3HveU8PgSghn3ca/l90iua1iiA1Ph0XUKwkzy4Xgy7OQPw6/oTJmw6MrVjJ6G8GrXljDbwuPzNULhr/8kePZT7nc/3B3k2RYLXHD+ypzQU8JLj7YIck3iAtc1LNGBqfCShZspCi1bPJ91k+kOlGgrHTYTtD701z5lgPBq15Yw28LLW8j5qxa+/UTlYnEfZHq2NZWdau94GbAbvSW83N2LfFicuMB1DUt0YCY8WbiZosyyDYMGBF32iyXaarkUAuFlxJRQzLaEWRdearwSX8Hy7ae0dt2b8m8rsasZRJekt4SX9Zo9DZC6wHENS3RgJjw5ADONmP/nzxzS3JnTc2+LB8cpEF5GTAnFbEuYfeHxzXGNg8dKeMG7n6aOm6YOlGkqIJOTVL+HS7g1oceEZ3rNqC39tx9yLnBawxIdmBOeHUnbe/LyY1iS7MwX893byn9PBMLLE1NCMdsSekB45UEmoURMC2GFg+JSA8IroJ41BOFpAeEF0M95IRM1IDxf6hkWiksRCK+AetYQhKcFhBdAP+eFTNSA8HypZ1goLkUgvALqWUMQnhYQXgD9nBcyUQPC86WeYaG4FIHwCqhnDUF4WkB4AfRzXshEDQjPl3qGheJSBMIroJ41BOFpAeEF0M95IRM1IDxf6hkWiksRCK+AetYQhKcFhBdAP+eFTNSA8HypZ1goLkUgvALqWUMQnhYQXgD9nBcyUQPC86WeYaG4FIHwCqhnDUF4WkB4AfRzXshEDQjPl3qGheJSBMIroJ41BOFpAeEF0M95IRM1IDxf6hkWiksRCK+AetYQhKcFhBdAP+eFTNSA8HypZ1goLkUgvALqWUMQnhYQXgD9nBcyUQPC86WeYaG4FIHwCqhnDUF4WkB4AfRzXshEDQjPl3qGheJSBMIroJ41BOFpAeEF0M95IRM1IDxf6hkWiksRCK+AetYQhKcFhBdAP+eFTNSA8HypZ1goLkUgvALqWUMQnhYQXgD9nBcyUQPC86WeYaG4FIHwCqhnDUF4WkB4AfRzXshEDQjPl3qGheJSBMIroJ41BOFpAeEF0M95IRM1IDxf6hkWiksRCK+AetYQhKcFhBdAP+eFTNSA8HypZ1goLkUgvALqWUMQnhYQXgD9nBcyUQPC86WeYaG4FIHwCqhnDUF4WkB4AfRzXjaTLc3my4aL1fKNl86fnfqd32g2L9arLcK00mxuiSO8KGmlHVh9UzUNC8WlhWZenMm6Lc0JsxpV89KL577+u7/96xMT8rhKYrbFXLw4MbFlXQzhxUkLYYWD4lJCMS+TybJV62+cmHjxwoUXKub8ua8/+29/658eOnT+/AvnZV5VxGyLuHDhxYmJreuHl1UtvFhpUQd+FWEFgeLSQTOvuUOLlg2v3zrRjMSEQSYrJ2ZbBGWydFG1wouaFsIKA8Wlh1ZetBNaveEmWWrlTEwcOiSTlROzLctNG1ZXf4QXLy2EFQiKSxGlvObOW7T8yutujnPB5eWL37hw7myz+WoEXvn+9779J9+MeyHp5muvXLZoXpXCi5hWEpY8rJSYbVkihIXiUkQtr7nzFppMbomVyUvnzz4bK5PvfOubfxg3k1uuu2rZwmqFFy+tJCx5WCkx27JECAvFpYhaXkNDiy67cuOtcUroZbMPeu6ZKJm88sr3vv3Hf/QHcTO5deNVyxcNDUnXVkDEtNKw5HGVxGxLiBAWiksRtbzsUXekTC6+9MLZqafiZPL97/zpN5//vciZXFdxDUVMKw1LHldJzLaECGGhuBRRyyvuWaEXz3/tmS9HyuTPvvXf/uDfxc3kluuuNJlUOqSNllYaljyukphtCRHCQnEpopbX3KGFy6/cEC2Tc899dTJWJn/yR//p6biZ3LzBZFLpObx4aaVhyeMqidmWECEsFJciannRlfNhunIuC64SzuQrX4qXye//67iZRLktJVJaaVjyuEpitiVEuy0FxaWC3m0pJpNV62+MlMmFc88+9cVImXz7j//w9/5V3ExuXFf5jcfR0krDksdVErMtIUJYKC5F1PIymSxdtS5mJr8ZMZN/GT2Tyo/wYqWVhiWPqyRmW0KEsFBciqjlZTPZEi0T/lUZ6bcqoUz+S+xMov14QIS1SsOSx1USsy0hQlgoLkXU8uJMYv9kl/RblcxKJvg9PD9mRXh1/T08KYAq6efiQiZqQHi+QHjhoLjcQCZqQHi+QHjhoLjcQCZqQHi+QHjhoLjcQCZqQHi+QHjhoLjcQCZqQHi+QHjhoLjcQCZqQHi+QHjhoLjcQCZqQHi+QHjhoLjcQCZqQHi+QHjhoLjcQCZqQHi+QHjhoLjcQCZqQHi+QHjhoLjcQCZqQHi+QHjhoLjcQCZqQHi+QHjhoLjcQCZqQHi+QHjhoLjcQCZqQHi+QHjhoLjcQCZqQHi+QHjhoLjcQCZqQHi+QHjhoLjcQCZqQHi+QHjhoLjcQCZqQHi+QHjhoLjcQCZqQHi+QHjhoLjcQCZqQHi+QHjhoLjcQCZqQHi+QHjhoLjcQCZqQHi+QHjhoLjcQCZqQHi+QHjhoLjcQCZqQHi+QHjhoLjcQCZqQHi+QHjhoLjcQCZqQHi+QHjhoLjcQCZqQHi+QHjhoLjcQCZqQHi+QHjhoLjcQCZqQHi+QHjhoLjcQCZqQHi+QHjhoLjcQCZqQHi+QHjhoLjcCMtk6kCj0ZDpYrwzef7zj5h2Hv7M8/LYAb9MTptmMk7LXEd6XngnzDodl+lC+kZ4U+Ml1ioFwst48mMPNhqPPCGPHBhc4R0nL8h0Mb6ZfOF91IzhwS/InGIgvGmQGWoovKNl1ioFwkv5GG/sjcbH5HExAyu8M9xR8qAY30we5maIB5+WWYVAeNM4QutUO+HxPhfC8xde4rtG43Myp5CBFd5B7id5UIxnJk+YNt735KtPk/c+I/MKURDewSmZ60iPC+8Ur1TNhDfFFofw/IX3a9yBFtdTRoMqPDonZJBHxXhm8jnTxq+Zv0+bv4/YWcUEZmLq6EBJ3/W48Ph0a82EN3WcRull1ioFwhPoMOLhJ1998kHz1/U03oAKb1K2NnlYTIDwnqQJ8zeS8EjlJQe0vS68YxRVzYR3mNao1JnJFAjPQkcRDTo1/rnGI87XLQZUeHQURN0lD4vxzOTzpo3kCM/5xGpQJpOmpaMy7U5PC49Ot1JatRPeMTqJB+H5FhedL3pYpp0ZTOGdMjtXPi8kj4vxzOR5c7RtDrr5HJ7zZdqgTEwhjZcd0Pa48A4aK5Afaia88VN81QLC8y0uGj45nxhPGEjh0U0OJ/gkv8woxjOT7LYU55MMYZnQWpUvoZ4WnrHCganaCe/IcbNbgvAYz+KiG1w/9+SHzCHF59zvch1I4R1rNA7bq5oyoxhf4aXGc75uHpaJ3wFeLwuPTree5hFgrYTHQHhMgPCM7oiH4wyf/Jh14ZHqzkQS3hN0BYn5kPNeKCATWqljMl2GHhaeUd0Re8oLwrNAeBYSXsLDuC1lZuickNy3JnOK8cyELlY8+OSrT9OOqOL78Bi6tWtSpsvQu8Kj063mkBXCy4DwLHnhOY+gBlB4fE4okvDoVnA6efc8DWxdv2rhn8mUaeWgTJeiZ4XHp1vNXwgvA8KzsPA+9vSrX+D78WRmEYMnPLpvg+5TiyI8GtDyxGfMxOd5qhj/TE6aVkgPpelZ4R2l060GCC8DwrNQTbHn+IY8nlXM4AmPNrIcjtubZybUAk/QJfTqj7ppRHtGpkvRs8KjDswhcwuA8MLpA+HRTa72bn7aNHiiGAhPZhcQIDw+nUp7o+qFZxoZl8lyQHi+QHjheBbXF0zvvY+q63naNOy8QiA8mV2AZyZ0doFGsnwOj79j5oB3JjRK5wFgaSA8XyC8cDyL61Uqqke+YC8J4hxeEVHO4dFI9sEnbCTvk3mFeGdS6lcyW+hZ4SXgHF4GhCdQdSXgu7RFRBHe83SIJ7ge4PlnQvXjdc0CwvMGwgvHV3i5X5t0/k4thOeGbybPJzcLmeM8V7wzISuU/qEUBsLzBcILx1t4aXU9EuOufl8GSnivvvrEh+gHBD7j/HvHEF4nILwMCC/jCVLeh9wPJgZYeOUIyKQ0/ZzJzERMq2+E5weEFwCE5wYyCQXC0wLCCwDCcwOZhALhaQHhBQDhuYFMQoHwtIDwAoDw3EAmoUB4WkB4AUB4biCTUCA8LSC8ACA8N5BJKBCeFhBeABCeG8gkFAhPCwgvAAjPDWQSCoSnBYQXAITnBjIJBcLTAsILAMJzA5mEAuFpAeEFAOG5gUxCgfC0gPACgPDcQCahQHhaQHgBQHhuIJNQIDwtILwAIDw3kEkoEJ4WEF4AEJ4byCQUCE8LCC8ACM8NZBIKhKcFhBcAhOcGMgkFwtMCwgsAwnMDmYQC4WkB4QUA4bmBTEKB8LSA8AKA8NxAJqFAeFpAeAFAeG4gk1AgPC0gvAAgPDeQSSgQnhYQXgAQnhvIJBQITwsILwAIzw1kEgqEpwWEFwCE5wYyCQXC0wLCCwDCcwOZhALhaQHhBQDhuYFMQoHwtIDwAoDw3EAmoUB4WkB4AUB4biCTUCA8LSC8ACA8N5BJKBCeFhBeABCeG8gkFAhPCwgvAAjPDWQSCoSnBYQXQP8Lb0uz+bLhYrV846XzZ6d+5zeaze+/8sor36+W7/6///3N5//jv2g2L1a/XoRppdncEkd4UdJKw6q+qaytWoWF4tJCMy/OZN2W5oTpsqp56cVzX//d3/71iYnvfvd7VfOdP/uf/+M///t/PjEhbVfOxYsTE1vWxRBenLTSsORxlcRsi4kSFopLDcW8TCbLhtdvnZh48cKFFyrm/LmvP/vV3/onhw79n2/932/9abV863/99//6+//mnx06dP78C+el/Sq5cOHFiYmt64eXVS28WGlRWF+hsCJ0YLph1CosFJcWmnnNHVq0bPWGmyaakZgwyGTlxGyLmLhpw+pli6oVXtS0EFYYKC49tPIymSy/6rpbZamVMzFx6JBMVk7Mtiy3XnfV8qqFFzEthBUIiksRpbzmzlt82dXX3xbngsvLF79x4dzZ+rVlaTZvu/7qyxbPq1J4EdNKOvDxCDz22V/99C9/qmZhobgUUcvLZHL5mhvuiNVPL50/+2z92rI0m3fcsObyqoUXLa2kA8VJlfLYZ//xr3zqkzULC8WliFpeQ/OWrFi79Y1xSuhls1947pnatSU0m2/cunbFknlD0rUVEDGttAPFSVXy2GO/+ulf+sVfqFlYKC5F1PIamr905bpbRuP008WXXjg79VTt2hKazbtu2bByaaXCi5dW2oEipSoxB3j/8FOf+HjNwkJxKaKW19D8Zas2vO7uSP304vmvPfPl2rUlNJv3vG7DymXVCi9aWmkHipSq5LHP/qNf+Qe/8HdqFhaKSxG1vMxOaNW1I/fE6qdzz311snZtCc3mD45ct2rp/EqFFy2ttANFSlVihPfLv/j3Hq1ZWCguRdTyokw2vO4t8frpK1+qXVsC7YSuXVm58CKllXagSKlKWHh/92/XLCwUlyJqedlMYh11Xzj37FNfrF1bQrP5llvNUXf1wos0pJUOFClVyWOf/fQvffLjP1+zsFBciqjlNTRv6Yq1N785Yj/F+wGOWG0Jzeabb15f8UWLeGmlHShSqhIrvL9Vs7BQXIqo5TV33pIrrrnxzmj9VOtfHLrzxmuuqPROh4hppR0oUqoSEt7fjy28ysNCcSmilhffG7n59cgknGbz9Ztj3HgcJ63aC6/ysFBciqjlNXdo0WWv2TiCTMJpNkc2vuayqr9LGyut2guv8rBQXIqo5UXfb77y2puRSTjN5i3XXln9jwdESqv2wqs8LBSXImp50U92rd6wFZmE02xurf7noaKlVXvhVR4WiksRtbxMJkuH192ITMJpNm9cN1z9Lx5HSqv2wqs8LBSXImp5USb0K9TIJJhmM9pPvEdYq9oLL+JPvKO4glHLizOJ/Q8ryeMqmZVMavmvlomUqmRWhFfXf7VMHldJPxcXMlEDwvMFwgsHxeUGMlEDwvMFwgsHxeUGMlEDwvMFwgsHxeUGMlEDwvMFwgsHxeUGMlEDwvMFwgsHxeUGMlEDwvMFwgsHxeUGMlEDwvMFwgsHxeUGMlEDwvMFwgsHxeUGMlEDwvMFwgsHxeUGMlEDwvMFwgsHxeUGMlEDwvMFwgsHxeUGMlEDwvMFwgsHxeUGMlEDwvMFwgsHxeUGMlEDwvMFwgsHxeUGMlEDwvMFwgsHxeUGMlEDwvMFwgsHxeUGMlEDwvMFwgsHxeUGMlEDwvMFwgsHxeUGMlEDwvMFwgsHxeUGMlEDwvMFwgsHxeUGMlEDwvMFwgsHxeUGMlEDwvMFwgsHxeUGMlEDwvMFwgsHxeUGMlEDwvMFwgsHxeUGMlEDwvMFwgsHxeUGMlEDwvMFwgsHxeVGWCZTBxqNhkwX499Pp4+MNxoHjp6Whw4EZXK8zFql9Jrwpo4fNOtx+MSUPE6YPGbny8MZCBDeox98b6Px0M98Qh4WU154Z2gNZDrh5BEz88hJeVQAhBfA4AqPzFC98KZoS2aOyZxiQjI5Y+za/8I7RWtBHDgjcywnk/kH203Ygr/wfk6W/5Cz8coL77BZfqvwpmgWcbjraiVAeAEMrPBoPxtBeKnvGo3jMquQgEzO0AFQ3wvPZsOM5xUwmfjOGE9mdcRbeInvGo33y5xCSgvvBC2+VXgcGtN1tRIgvAAGVnh2I5MHxXj202luRXDafRv8M5EjI3lUgt4SXnLAQ+QPjI+ax4cnL52mtTwl8zrhK7xHH+AmmQ/LvCLKCs9Ku0V4J7lBi8teEcILYFCFx/vZ6oVHJXrw9KUpHj87nqLxzuR0Igp5XIKeEt4krcPxqUunaad0QGYStH601yBDdDODr/A+aJb7wM89/uhD5u8HZF4RZYVnD/lbhEereWTy0hlavfzqzgSEF8CACi8ZHMnDYjz7iS6M8OUK2phdx7SebfHRJK+XzChBTwmPfMZG4DXiWRbqRPpL86sQ3nvNcn/W/P1I46H3f9DOKqSk8E7RKrUJj2aQx/kyWutJy45AeAEMqPDMfpa2rsqFd/jwAdsGHeJFEN4BPv0lM0rQW8I7fFj6qm1l6OgoOcLrdrjsKbxHqTn367OWcsIjp9GGN014PEFCL7gATUB4AQym8Mx+dpz3tfK4mNB+orGt650p/sI7MtXuCEd6SngpNLbNq4GUbsZ+dA7vQLcTop7C+4hZ/EMy7Uw54R0zK0T7vmnCm6QJGts6XMyH8AIYSOFNmYo50T5e6k5gP1GL4zJdiK/wDpNRS61VSm8Kj9TQcsST3pYy3nXk5ym8nzELfv+jH3ig8d4PPCqziiklPNrmzkwTHnnu4JlLk7RTbH2mMxBeAAMpPNrP8sYXTXg0GHMYrFiC2iq1Vik9KTwanrcdyYnxxrtdow0Tnr1Q+4DrRdpywjNqO84ab9EazUiB8KplEIXH+9mowuP7KWS6GAiP4XuoW08DmD2V0PV8aIDwEh74qMwsoozwjNmMwKcJb4oO8RIgvGoZROHxfjai8Kb45pRuJ51agfAIvtuu9dIEXaw4OGlvV6ngPry88JzvPC4hPLo1wAh8mvDkdvFGw3G/COEFMIDCs/vZeMLjHXgJ30F4BN+N23Yplq5v0tl9HuvaWR0JEd5DH3380Q/QhOPl2hLCO9xoHDF/pgvPfnX4yOkOz3QCwgtg8IRHl/5ooBRLeOy7oyV8B+EZyHfjbZe1yXPWB9SlXS5beArvw9R37Dm6Ie8jPK8Qd+GZVeIvys2sNRqxO9y7BOEFMHjCo+0th+PNcd79xL5zvl7BQHjJ4LUV2kVZU9ANa202zOMpvI9S3/HU+82EuvDoQ+fo8PlpU3H4Og6EFwCEJ7ML8O0n9p3rd8oECI99N+2gmIRnv11PnaovvMfpCi1frKDvlsUT3gm50ZpvGm+3fAcgvAAgPJldgG8/0f0oJX0H4VHldzjpOUXrRiNZNoOd1xFf4dG5u/d++PFP8Mk89XN4MwpPhu98Lcbl51IgvAAGT3gJUc7hyVcnLY5uhfCo8lPMY9pHUeeRMg6KGY7yKzvjKzz6qkVCVT8ekD+HR+2YP/xjCYLLzhHCCwDCc8Ozn/gLuwkQnltadMSTYWYkwuM78ywtv5PXjq/w+OdSLA+4ftdCQXi52wu7aTwFwgsAwnPDr5947JUC4bmlZX9BKcHMSIR36UyyA2n7JeQ2vIWXGu+9rvcdqwgvvfPYyXcQXggQnht+/SS/uidAeG5pZcdxhJmRCu/S1Aka1k7/ty5a8Rfe4x/5qw80Gg/9rPtvpmgIzxzUGuWNu/67JxBeAIMrvHIgk1AiphUgvNKUF14wEF4AEJ4byCQUCE8LCC8ACM8NZBIKhKcFhBcAhOcGMgkFwtMCwgsAwnMDmYQC4WkB4QUA4bmBTEKB8LSA8AKA8NxAJqFAeFpAeAFAeG4gk1AgPC0gvAAgPDeQSSgQnhYQXgAQnhvIJBQITwsILwAIzw1kEgqEpwWEFwCE5wYyCQXC0wLCCwDCcwOZhALhaQHhBQDhuYFMQoHwtIDwAoDw3EAmoUB4WkB4AUB4biCTUCA8LSC8ACA8N5BJKBCeFhBeABCeG8gkFAhPCwgvAAjPDWQSCoSnBYQXAITnBjIJBcLTAsILAMJzA5mEAuFpAeEFAOG5gUxCgfC0gPACgPDcQCahQHhaQHgBQHhuIJNQIDwtILwAIDw3kEkoEJ4WEF4AEJ4byCQUCE8LCC8ACM8NZBIKhKcFhBcAhOcGMgkFwtMCwgsAwnMDmYQC4WkB4QUA4bmBTEKB8LSA8AKA8NxAJqFAeFpAeAFAeG4gk1AgPC0gvAAgPDeQSSgQnhYQXgAQnhvIJBQITwsILwAIzw1kEgqEpwWEFwCE5wYyCQXC0wLCCwDCcwOZhALhaQHhBQDhuYFMQoHwtIDwAoDw3EAmoUB4WkB4AUB4biCTUCA8LSC8ACA8N5BJKBCeFhBeAP0uvJVrN0frp2ef+mLt2hIiCS9SWmkHipSqhIT3yY//fM3CQnEpoiu8a0wmMZg49Dd/+q/9lDyomJhtJWy+ZuWS6oUXKS2EFQyKSxGlvOYOLViyYs31f1mWWi0TE4d++q//1N+QR9USsy3hr1y/ZsWSBdUKL15aCCsYFJceWnlRJldcvfGWN9x97zt+5L5quf/+d/3FH3/3u9/znnf/xI//2Lvuv19mV0LMtu67753vfMe9d7/hlo2vuWJx5cKLlJbpwB/7Sz+xfft7tiMsX1BcGujmNXdo/uLLrly/5bY777rnrT90b6W87W1v/+Ft993/rnfdf9+2d7z9bW+T2ZUQs6177/2ht95z1523bVl/5eWL5lcrvGhpUQf+yDvv/9F3/eh923747dX2Xz3DQnHpoJvX3LnzFy1btWbj1pE/d+cb3/TmShkdvest9/yFt95771vfes/dd42OyuxKiNnWm9/8pjfdecfI1o1rVi1fOH9ulcKLl9bo6N13/2DSgaN3ydxqqGdYKC4dlPOaO2/BkstXr914w823vm7ktmq5/fbX3/GGO9/4xjvvvOMHbr/9dplbDTHbum1k5Nabbti4dvXlSxbMq7SGIqZ1++0/wB345++84/VV9189w0JxqaCclznsXrTsitVXr7tu4/XXv7ZaNm++YctNW2++aetNW27YvFlmVkTMtl57/fUbr1u3ZvUVyyIMkmKltXnz5hu3br3ppq1bEZYvKC4FtPMye6FFSy9fufqq11y9pmquWbtu3foNG9avW7d27TUyrypitrXm6tdctXrl5UsXLZhXcQ1FTEs6cIPpwGsQlh8oLgWU85o7ZEJZsuyyK65YUTkrV60aXk2sWrVSZlVGzLZWrLji8suWLYlQQhHTQljhoLg0UM5rrjnwXrBw0eLFi5dUztIlS5cZlpq/Mqc6Yra1ZPHiRQsXzB8aqvikUNy00g6snnqGheJSQTsvE8q8+fMXRGGhYRH9Tx5XScy2FiyYP8/sgeKUUKy0FppSRVhhoLg0UM7LLMrkEod56f+qJ2ZblEeUCoqaVkTqGRaKSwXuROlQFXiBkbCfPg4x24pUQAZpLwayrUWhnmGhuFSQvgQAAAAAAAAAAAAAAAAAAAAAAAAAAAAAAAAAAAAAAAAAAAAAAAAAAAAAAAAAAAAAAAAAAAAAAAAAAAAAAAAAAAAAAAAAAAAAAAAAAAAAAAAAAAAAAAAAAAAAAAAAAAD6hpFdYw3D3t3bZQYzvEcmKmfbDpnoAH2yMZkOhVayfVm85jQxShM7aYomCptM3wcA6CeG91DtWvaNykxjof2R6tm0z57pDIQHANBjeC+Vbso2mUsWtJMVY8QK4YGBZttu2pz27dkxLDM64bRZ5ijYQv0GcDtpodlRUT+ym1YhY7/tc14xnqoaamgWhZcC4WXwyglju7Ptm7eKFmiuvHoXv8Swzz7uEirIMyodZtjf5eQOPa8nPM8BXP8Lb5jWoLFzxExtN8dayXYK4RUwMMIzjJmtg+kqvL38kjlzNtmHEJ4ju6S/LLtl7nToWS3heQ/g+l9422gNZL8yQtN2u4XwChgk4TX2i/G6Cq8h47Ht8hDCc6LVd12MR09qCc+7vPtfeC1rwJcvzN9sg7fPjO42R9379sj5PWJ4B71mbOcmeUyPdtrX7d2ZnYnYtGuvKZex7emc4e176AB+35g9XcGWYdqi5OXv272JF5w+t42W35D32kMJ+5n4g9uqpFfstgs2xbfHHLWOJRefad7YnE0tH5JXlSa6C2/TjjE6/t27J1lW+j7CPGse7csGf/TkaFvrhun92JvwyuXJn+hoIf9qWdHkGhiE5wIfcDT2UoVssx05k07oOQgvGN4ft9yOYsg2eFq34fQ035hYYs4oj34N++Wt9I6dyeuSA4I5O2RGY5/MGSEdWfidMwlvRK6k7N9OC5bnkplmtj0kpYXZM0f8cXimWJAXPJysx177uWlyLNmjykdKN4uuwrOjfab9fYbMA2OyA6DpbcnHldY79WOPkq3cpm32Q9sz3J3rJOllOTZJugrCc4ELIjmq476eSWrdnutEfgttZ4CFx4JItJWQbMJ23XKXcaV27W7JYt9K78ikIMbLHa3bOcPZSwxm1gzCy72OpuxzI/k38yZCy9/HT/E8LkoS+H5ZcPbB7RYlDwQ7dk83i27Cyz6mYR/3QW5zSj1mkDXnSZ5BSK9N78depaVW7BCV16u78DgKzoJXHcJzgDs3Ofsp+rM7zU325th96ZiCHiWbpX0yHVLw9mmns804F2LbspLA0vfMOPBoG5C1Cc88a5Len35CXrDLOG9WsWu/b1fr6uY2bZrcb1aY7h+xPc4+Ghsxg0N6Fa++Xcre0TnD/E7e9rnvd22yR2Y8KCJD7TUNDfOhn02Pptprg5e2Z9OcTXZ4xC/cRI3S5xjhZ+kt3ABtHvZI0njODqiM+ayi9ps+ts9xX/NUwwzDR9k9vMa8MJrIthSaaBUevXyPKXm7wm2bE2vd9MbwDv6EuZbSNWDfTu/HniVbOYJXmo+kc1tFDn41/S+VIq90e6igA9xTWent2Lt7u91lcldb9mY7Udls0pGTjBV4251ZeO3L4mcYek+XgUf7gEwWJcLjDZlJbt+lBTuM82aX7GhqbEdyRi6/afNlXI6Ej6PoM7O3aE6iF+lDe9zC60fdQ5rgOhmmfqMBJ73Kprtz765ttjV6dVtt8FGnzZaXy5Pcj7bHeCuhd9NHp5Z4hn1WZlnhcQ4sJJ7iedxWh82im/Bojt0YxsZ2jvJU+j7+sHbExx3EcqMJOaxMPmyHfuxZ0pVjeA15F5ZtFXn41XSowucUzKP9/Lq2UEEnuPhkOo89rBZsrdGU3Sx5ixb4ue7Cm7Ysfoah9/DO39I28Jg2IGsRXstirQ5pwdl7ZhrnzTbZqTGzxvaD5zdt8pcdrHDtksESz0jtUi9xH8qeivRmkuHnrNRoGUlPp7drCfSqttrgxm3f8EIoZq46eS8HQTohCZJrpJNNwSUfiHO3GwpPci3ShIiLplhI6WZRJLxsN8yk72MRy4bCH5xWmf7KTP7gZrkd+rFnSVfOwvt5Wptsq8hjX23+Y+3TX34dhFdMbtfeCm3RZrwkxcm1kL6Ut1QaPXDH05bNc2YUXodl5YKkyRkGHnxgY7b73ICM38gt8WmtfebZbbx58DxusnCcN/tszylvj/1IWY9QdUo/0EwzyVKx3csp0GS+RFgBcqRn5/BKm7/8qr07WjxPs9pqg5oUN3Ba1DzvT5I3Ji+gTjcDWfpA9DpTcPQRyXO2m/nF2SZAE1aC2daTfvDWl8kaCzSnsWe7tbclfR/FbQ/wpGdoV0B/k0WI/6f3Y++ST9PADyll3iryZE/zgYJ5QJHs4OghvGJ4o+u0KWzavtuOE/kVfHSRvpT6myd4x091wC+yFZltxmmIHZaVlXe3gQctwe7n0wEZv5EXRpu1PZ3NAziuV26ycJzXC4zwfRWM7f6sR3IyZMTtOah70xAM/N5NLQfehOmm5Ch4/57sBCY9bquN/MKSaV6anSUtmCVwWiP8kDrYuI8+bbrPs4vNJmlClptO8nrTRMeXCclpiX270+O85H38EdLPTw8o3fxMeqXZHKb3Y++SdoqF+562cu73PPy0fTW9yLyG/+R6H3SDO6p1W2tj+mbJR4V2gLVrzHqIX8Qayr2+LURD9lxW3lQ3cnAxbeBBS2gbifAbqSUuZakGXi59Im5SZsp+njXaOs7rFbbtos84bRfA83JM3+ypC2lVk+CkU3jtc1A3JeYw7JadCU231UZ+Yck0L83OynU7ZbSTn+NLGSOsn3QTsIvNJmlClptOpsvt+DIh933j/busqpP35Roy0AN6a36mvJL+n0ee7UnSTrGk3d2evH2NfTXtBs0qU0+1dQqYEe6o1m0tz/CorcmWzZKPndLjBYYXUyC8lmVxkDy728CDl9A6IEs3BapkvkpI0JEmnSDKNznzOK+H4E/H47OsR2giz/TNnrqQVjXpLOkUXvscHMh2K1XG7qVoqq028gtLpvN9mXU77Wf20iL282ffQVXH+6tcyWWTNCHLTSfT5XZ8WcLwTsrUYs+8Ju/LNWSgB/TW/Ex5Jf0/jzzbk7R0dq6725O3r7Gvpn3NXj78GGvrFDAj3FFt25owvH13uptt2Sw5BJqRwYvpIrxpy8qW0W3g0WFAlm4K9L70g1NTyTn6ZCa/suM4b1bh/rHmIdLVyHpEDk1zcD+0fXBaVTkytu8dThTfTnIgaeAjXZpoq418vyXT2QcySAtyeE+W283HznuoTT4Iz5VcNkkTstx0kpbPy+34sgyzzSTOy05X0AT9TT8/PUiGtPYirX2l2Rqm92Pvkq6cpXVIa+flkFfTCg7TtrEz3/ugGzzg67hV5PawbZtlhxC4v2cW3vRlZcvgeTl4ZsL0ARm/kVqiv+kHT5qiv8lMeSU/lWO2hcdjwKzH00+c9Uh+JSy57k3h9ZLdgJiuQzDCJpFHeum0rTboMDs5XKYXUvN88JkcXNMLrF7J0PSfcbZ55X4qOv5kuZLLJmlCViWd5A9OEx1f1srIDmrYfoz0ffQBO160SE5XiOmm92Pvkq6chR9St3aOVF5NsfP3MkbzvQ+6Qh2V69HRfbvtCNKqZv+eHXx00bJZdgghV5FZ16chdlhWtgyayMMzU6YNyPiN1BL9TTfnpCn6m8yUV/JTOdq8ER8u4eQQj3uLP3HWIx1OGVCNt53M5PWSxVAnGQVw9acn+dvgJ9Mc22ojJ7f0E/GxnDTKlrbT/DkN5mDR5iqmzJVcNkkTkkc6mW4WHV82Df5oFFr6Pm5W+ocPhWia/sqpWv7gRu0d+rFnSVfOwsMeWptsq8gjr6Zy4h1ZS++DrnDfZUXCG5N5yB1Id4R02Cw7hMAvmkl4nZaVLUN2xzPSNiDjNybbf/o+epAMad3GebMHW7+xh9ZhxI63+bgr6xEuWB6eDe+Tu25pJeyZrJ3JneHcu/YqNVc2uY96yl6jHpOrSSM7du+zVuSl8iRNtNUGP2l7k5fLkzxlLciStjphcdpetmsiI8ks29wkTUhI6SQvliY6vkwY3blnv22PG6HJ1vfZQzz+MNw+TcjM5MN26MeeJV05hvcvvB13qDWDvJrWnnxntvxc74Ou8PaUjAXk20RmIt1zdtgsc4cDCfwiW1jZ65MQOy0rC5Je1bqxTyM/IEuFR5t154sWsmWL6TpvMrMJf8gcLdYaMQ/4kyd3DnJ/ce3u2yY3JPLNhHYpZj+Su+WQw0y/gWZ6lTucvu41h79Yb+9C5BoZHm5JkDPq/tUy1rLB7n+ot/lTJbvLLNvcJE1IuOkkL4wmOr7MwqvEd2Dyjwi0vs9+2PSrZbb7aJZZA7PuvAbsuen92LNkK0fw6vMqdN566dXUJ7T6BnPonet90BX7ZQbuXPMg3TKyAPgesJbNMjtWmLNNRsC5/uaIeDJZRqdlZUG6DTzSARm/kYTHxW1rzS6Xprkp+9GcxnmzQttPvMu3P+TIibzS8gK7M5KDKQuvDa3qPtni04VwiQt8hJSfkfSMdVq2tyDyt4GY/6x9WhqVTUR0Yxdl3WfDUxVeaxe1XqVte1bWnCaz2fYwt0M/9irZyhnsjzbwenUXniRptgcIzxmWBf881LA9YcaHAdyVPKbgjaZ1s+Ra402KX2aSyc7EW4Hy65MQOy0rC7LbwKPDgCwVnr3p2W7Y9Ln5EIebLBznzTbZl4cN6Y/bykzqnvRXloyypUOyn0vab+3NG33yeyZS9YmNCPkCdP7uDtuV6Y+g2EdC2uRu6mGxjz00InK/hG03GO5He1zIc3WF19JFzj8PtTMxdPINxQ792KPkVm50F+dju7W78KQbzKpxAdreBwW0HgTIvpt1sTf5lYu2zZK3VFNQm+zYgmZZlQ3bkZO8Pgmx07JER50HcAncTtuALBWeLbzsq2VcFXYDLxjn9QCbdvKvW+4f25WYyrDDrOT+MV43+4Mvjb25f93A/gDo/vRnY+xGP7zTvG7aD8PkfuLGvI9/byZ7o/EYnSHYmx6yCfRDePTDM9RzaS+N8u1Eufca6JPb4yWOQFSoK7y0i7I1Sd9HmN4wz7b9AOhOk7GZO+0HQFv6sTfhlcsj34EUpeWgDrPZSw/arZwm8rUDZiY7KiDs1mIP1FJ4d0MTdrPMv8MeXGSjH34jd32yhXZaVvcBXEKri/mTZcJrfdZ+bGqyeJxXC5KNHjAUbh8XfLvwkkP27sLjtbbDI5qA8Byxh0gMHTEx6Y8/jtHBGJ/v4Uf8pD1AY5JfXEqssj8925YKr9OyktfTC7sMPKYPyHLCm+HnoRzGeXUg3egBQenWR3jJQL1IePw2LozkKeDENh655AZCRkM0NqIxQ3r6jP4mJSY/AJp7wyidqqOxD72sVXgdllU0gEuYNiDLC88cWNKzbT8A6jLOqwHpRg8I2izqIbyW8xwFwuNdOcsxeQoMFANkAQivBRQ8GEAgvEEFwgMDCIQ3qEB4YACB8AYVCA8MILAAAGBggPAAAAMDhAcAAAAAAAAAAAAAAAAAAAAAAAAAAAAAAAAAAAAAAAAAAAAAAAAAAAAAAAAAAAAAAAAAAAAAAAAAAAAAAAAAAAAAAAAAYGbmzPn/7Eve3EI7ydgAAAAASUVORK5CYII>\n",
    "\n",
    "<span style=\"font-size:1.3em\"> **Reference** Jones, K.H. (1998) A comparison of algorithms used to compute hill slope as a property of the DEM: Computers & Geosciences, vol.24, no.4, p.315-324. </span>"
   ]
  },
  {
   "cell_type": "markdown",
   "metadata": {},
   "source": [
    "###  <span style=\"font-size:1.3em\">  **Using Raster Cell Iterator (RCI) to calculate the implementation of steepest downhill slope**"
   ]
  },
  {
   "cell_type": "code",
   "execution_count": null,
   "metadata": {},
   "outputs": [],
   "source": [
    "arcpy.env.overwriteOutput = True\n",
    "\n",
    "print('Read input DEM...')\n",
    "\n",
    "# Read elevation raster\n",
    "dem = Raster(r'C:\\arcpy-working-with-raster-data-2024\\DevSummit\\PythonRaster\\Data\\Demo3\\Input\\dem')\n",
    "\n",
    "# Access elevation raster properties that will be used in the calculations\n",
    "cell_x = dem.meanCellWidth\n",
    "cell_y = dem.meanCellHeight\n",
    "\n",
    "\n",
    "\n",
    "# Create a new variable that contains the properties of the elevation raster. \n",
    "# Used to create a new raster which will contain the result of the calculations.\n",
    "raster_info = dem.getRasterInfo()\n",
    "\n",
    "\n",
    "\n",
    "# Modify properties of the elevation raster that do not match with the expected properties of the output raster. \n",
    "# In this case, the elevation raster pixel type is 16 Bit. We expect Slope to be a floating point value.\n",
    "# Set the output pixel type to be float 32 by modifying the raster_info object.\n",
    "raster_info.setPixelType('F32')\n",
    "\n",
    "# Create the new raster that will contain the result of the calculations. At this point this is an empty raster.\n",
    "new_slope = Raster(raster_info)\n",
    "\n",
    "print('Start calculating steepest downhill neighbor slope...')\n",
    "with RasterCellIterator({'rasters':[dem, new_slope]}) as rci:\n",
    "    # Accessing the cell with indices r,c\n",
    "    for r,c in rci:\n",
    "        slopes = []\n",
    "        \n",
    "        # Iterate through 8 neighbors\n",
    "        for x,y in [(-1,-1),(-1,0),(1,0),(0,-1),(0,1),(1,1),(-1,1),(1,-1)]:\n",
    "            # Calculate the slope from center cell to each neighbor\n",
    "            if dem[r,c] >= dem[r+x,c+y]: # only look for downhill slope\n",
    "                slope = abs(dem[r,c]-dem[r+x,c+y]) / np.sqrt((x*cell_x)**2+(y*cell_y)**2)\n",
    "                slopes.append(slope)\n",
    "        \n",
    "        # Assign the steepest slope to the output cell value\n",
    "        if len(slopes) != 0:\n",
    "            new_slope[r,c] = max(slopes)\n",
    "        \n",
    "print('Calculation finished.')\n",
    "new_slope.save(r'C:\\arcpy-working-with-raster-data-2024\\DevSummit\\PythonRaster\\Data\\Demo3\\Output\\new_slope')\n",
    "print('Output has been saved.')\n"
   ]
  },
  {
   "cell_type": "code",
   "execution_count": null,
   "metadata": {},
   "outputs": [],
   "source": [
    "new_slope"
   ]
  },
  {
   "cell_type": "code",
   "execution_count": null,
   "metadata": {},
   "outputs": [],
   "source": []
  },
  {
   "cell_type": "code",
   "execution_count": null,
   "metadata": {},
   "outputs": [],
   "source": []
  }
 ],
 "metadata": {
  "kernelspec": {
   "display_name": "ArcGISPro",
   "language": "Python",
   "name": "python3"
  },
  "language_info": {
   "file_extension": ".py",
   "name": "python",
   "version": "3"
  }
 },
 "nbformat": 4,
 "nbformat_minor": 2
}
